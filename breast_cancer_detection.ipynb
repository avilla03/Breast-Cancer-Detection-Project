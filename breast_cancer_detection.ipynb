{
  "cells": [
    {
      "cell_type": "markdown",
      "metadata": {
        "id": "view-in-github",
        "colab_type": "text"
      },
      "source": [
        "<a href=\"https://colab.research.google.com/github/avilla03/Convolutional-NN-Project/blob/main/breast_cancer_detection.ipynb\" target=\"_parent\"><img src=\"https://colab.research.google.com/assets/colab-badge.svg\" alt=\"Open In Colab\"/></a>"
      ]
    },
    {
      "cell_type": "markdown",
      "metadata": {
        "id": "gQSTUNaoCJR0"
      },
      "source": [
        "Load dataset onto colab"
      ]
    },
    {
      "cell_type": "code",
      "execution_count": null,
      "metadata": {
        "colab": {
          "base_uri": "https://localhost:8080/"
        },
        "id": "cm0J_NWp5sYf",
        "outputId": "e9152efb-6123-439a-873f-43213590cd04"
      },
      "outputs": [
        {
          "output_type": "stream",
          "name": "stdout",
          "text": [
            "data/med_gallery does not exist, creating one...\n",
            "Extracting all the files now...\n",
            "Done!\n"
          ]
        }
      ],
      "source": [
        "\n",
        "import zipfile # Import data in form of a zipfile\n",
        "from pathlib import Path # Store path of data\n",
        "data_path = Path(\"data/\")\n",
        "images_path = data_path / \"med_gallery\"\n",
        "if images_path.is_dir():\n",
        "  print(f\"{images_path} directory already exists, skipping download\")\n",
        "else:\n",
        "  print(f\"{images_path} does not exist, creating one...\")\n",
        "  images_path.mkdir(parents=True, exist_ok=True) # make directory and create parent directories\n",
        "                               # if needed. It is ok if this dir exists already\n",
        "  zip_file_path = \"/content/drive/MyDrive/archive.zip\"\n",
        "  extraction_path = images_path\n",
        "  with zipfile.ZipFile(zip_file_path, 'r') as zip:\n",
        "    print('Extracting all the files now...')\n",
        "    zip.extractall(extraction_path)\n",
        "    print('Done!')\n",
        "\n",
        "# specifying the zip file name from google drive & extraction paths"
      ]
    },
    {
      "cell_type": "markdown",
      "metadata": {
        "id": "l1rxqwv6COXd"
      },
      "source": [
        "Seperate dataset into train and test sets"
      ]
    },
    {
      "cell_type": "code",
      "execution_count": null,
      "metadata": {
        "id": "jhzXaXmcVWrT"
      },
      "outputs": [],
      "source": [
        "import os\n",
        "\n",
        "data_directory = \"/content/data\"  # Path to data directory\n",
        "\n",
        "# Create med_gallery, train, and test directories\n",
        "train_dir = os.path.join(data_directory, \"train\")\n",
        "test_dir = os.path.join(data_directory, \"test\")\n",
        "\n",
        "# Create subdirectories under train and test\n",
        "for subdir in [\"0\", \"1\"]:\n",
        "    os.makedirs(os.path.join(train_dir, subdir), exist_ok=True)\n",
        "    os.makedirs(os.path.join(test_dir, subdir), exist_ok=True)"
      ]
    },
    {
      "cell_type": "code",
      "execution_count": null,
      "metadata": {
        "id": "fhNkObxwdjSU"
      },
      "outputs": [],
      "source": [
        "main_directory = \"/content/data\"\n",
        "os.chdir(main_directory)\n",
        "subdir_path = os.path.join(main_directory, \"med_gallery\")\n",
        "os.chdir(subdir_path)\n",
        "excluded_directory = \"IDC_regular_ps50_idx5\"\n",
        "subdirectories = []\n",
        "for i in os.listdir():\n",
        "  if os.path.isdir(i) and i != excluded_directory:\n",
        "    subdirectories.append(i)\n",
        "combined_files_0 = []\n",
        "combined_files_1 = []\n",
        "for sub_sub_dir in subdirectories:\n",
        "  sub_sub_dir_path = os.path.join(subdir_path, sub_sub_dir)\n",
        "  for sub_sub_sub_dir in os.listdir(sub_sub_dir_path):\n",
        "    sub_sub_sub_dir_path = os.path.join(sub_sub_dir_path, sub_sub_sub_dir)\n",
        "    for file_name in os.listdir(sub_sub_sub_dir_path):\n",
        "      file_path = os.path.join(sub_sub_sub_dir_path, file_name)\n",
        "      with open(file_path, \"rb\") as f:\n",
        "        content = f.read()\n",
        "        if sub_sub_sub_dir == \"0\":\n",
        "          combined_files_0.append(content)\n",
        "        elif sub_sub_sub_dir == \"1\":\n",
        "          combined_files_1.append(content)\n",
        "os.chdir(main_directory)\n",
        "train_path = main_directory + \"/\" + \"train\"\n",
        "test_path = main_directory + \"/\" + \"test\"\n",
        "divide_count0, divide_count1 = int(len(combined_files_0) * .75), int(len(combined_files_1) * .75)\n",
        "for sub_dir in os.listdir(train_path):\n",
        "  if sub_dir == \"0\":\n",
        "    sub_dir_path = os.path.join(train_path, \"0\")\n",
        "    for idx, image in enumerate(combined_files_0[:divide_count0]):\n",
        "      image_path = os.path.join(sub_dir_path,  f\"train_image_0_{idx}.png\")\n",
        "      with open(image_path, \"wb\") as f:\n",
        "        f.write(image)\n",
        "  else:\n",
        "    sub_dir_path = os.path.join(train_path, \"1\")\n",
        "    for idx, image in enumerate(combined_files_1[:divide_count1]):\n",
        "      image_path = os.path.join(sub_dir_path,  f\"train_image_1_{idx}.png\")\n",
        "      with open(image_path, \"wb\") as f:\n",
        "        f.write(image)\n",
        "for sub_dir in os.listdir(test_path):\n",
        "  if sub_dir == \"0\":\n",
        "    sub_dir_path = os.path.join(test_path, \"0\")\n",
        "    for idx, image in enumerate(combined_files_0[divide_count0:]):\n",
        "      image_path = os.path.join(sub_dir_path, f\"test_image_0_{idx}.png\")\n",
        "      with open(image_path, \"wb\") as f:\n",
        "        f.write(image)\n",
        "  else:\n",
        "    sub_dir_path = os.path.join(test_path, \"1\")\n",
        "    for idx, image in enumerate(combined_files_1[divide_count1:]):\n",
        "      image_path = os.path.join(sub_dir_path,  f\"test_image_1_{idx}.png\")\n",
        "      with open(image_path, \"wb\") as f:\n",
        "        f.write(image)"
      ]
    },
    {
      "cell_type": "markdown",
      "metadata": {
        "id": "BkZhYm-u0YNB"
      },
      "source": [
        "Lets visualize our data and create tensors for a data"
      ]
    },
    {
      "cell_type": "code",
      "execution_count": null,
      "metadata": {
        "colab": {
          "base_uri": "https://localhost:8080/"
        },
        "id": "xBxhJtQx0XXX",
        "outputId": "abcc9946-261a-4c31-ca3c-cb906ff0a632"
      },
      "outputs": [
        {
          "output_type": "stream",
          "name": "stdout",
          "text": [
            "Test set:\n",
            "2 directories, 0 files in /content/data/test\n",
            "0 directories, 49685 files in /content/data/test/0\n",
            "0 directories, 19697 files in /content/data/test/1\n",
            "--------------\n",
            "Train set:\n",
            "2 directories, 0 files in /content/data/train\n",
            "0 directories, 149053 files in /content/data/train/0\n",
            "0 directories, 59089 files in /content/data/train/1\n"
          ]
        }
      ],
      "source": [
        "import os\n",
        "def walk_through_dir(dir_path):\n",
        "  for dirpath, dirnames, filenames in os.walk(dir_path):\n",
        "    print(f\"{len(dirnames)} directories, {len(filenames)} files in {dirpath}\")\n",
        "print(f\"Test set:\")\n",
        "walk_through_dir(test_path)\n",
        "print(\"--------------\")\n",
        "print(\"Train set:\")\n",
        "walk_through_dir(train_path)"
      ]
    },
    {
      "cell_type": "code",
      "execution_count": null,
      "metadata": {
        "colab": {
          "base_uri": "https://localhost:8080/",
          "height": 157
        },
        "id": "pqnb1Yz2br-5",
        "outputId": "f4978265-1a71-4b40-a651-75bf21a5f6b1"
      },
      "outputs": [
        {
          "output_type": "stream",
          "name": "stdout",
          "text": [
            "/content/data/train/0/train_image_0_35844.png\n",
            "Path to image: /content/data/train/0/train_image_0_35844.png\n",
            "Image class: Negative\n",
            "Image height: 50\n",
            "Image height: 50\n"
          ]
        },
        {
          "output_type": "execute_result",
          "data": {
            "text/plain": [
              "<PIL.PngImagePlugin.PngImageFile image mode=RGB size=50x50>"
            ],
            "image/png": "[encoded data removed]"
          },
          "metadata": {},
          "execution_count": 5
        }
      ],
      "source": [
        "# Lets take a random image\n",
        "import random\n",
        "from PIL import Image\n",
        "train_images_path = Path(\"/content/data/train\")\n",
        "train_image_path_list = list(train_images_path.glob(\"*/*.png\"))\n",
        "random_train_image_path = random.choice(train_image_path_list)\n",
        "print(random_train_image_path)\n",
        "train_image_class = random_train_image_path.parent.stem\n",
        "classification = \"\"\n",
        "if train_image_class == \"0\":\n",
        "  classification = \"Negative\"\n",
        "else:\n",
        "  classification = \"Positive\"\n",
        "#Open image\n",
        "img = Image.open(random_train_image_path)\n",
        "#Print metadata\n",
        "print(f\"Path to image: {random_train_image_path}\")\n",
        "print(f\"Image class: {classification}\")\n",
        "print(f\"Image height: {img.height}\")\n",
        "print(f\"Image height: {img.width}\")\n",
        "img"
      ]
    },
    {
      "cell_type": "code",
      "execution_count": null,
      "metadata": {
        "colab": {
          "base_uri": "https://localhost:8080/"
        },
        "id": "_DdfWwYccfWV",
        "outputId": "538d17ec-a712-44c0-ed4e-675feecfda56"
      },
      "outputs": [
        {
          "output_type": "stream",
          "name": "stdout",
          "text": [
            "[[[240 235 238]\n",
            "  [237 227 236]\n",
            "  [193 170 196]\n",
            "  ...\n",
            "  [237 230 235]\n",
            "  [242 238 238]\n",
            "  [243 240 240]]\n",
            "\n",
            " [[238 228 232]\n",
            "  [238 228 232]\n",
            "  [210 163 190]\n",
            "  ...\n",
            "  [234 198 216]\n",
            "  [224 193 214]\n",
            "  [229 197 215]]\n",
            "\n",
            " [[242 239 241]\n",
            "  [242 243 241]\n",
            "  [236 220 228]\n",
            "  ...\n",
            "  [201 107 148]\n",
            "  [217 123 161]\n",
            "  [204 116 157]]\n",
            "\n",
            " ...\n",
            "\n",
            " [[235 190 205]\n",
            "  [231 202 217]\n",
            "  [236 203 217]\n",
            "  ...\n",
            "  [242 230 238]\n",
            "  [242 240 239]\n",
            "  [230 199 217]]\n",
            "\n",
            " [[205 121 150]\n",
            "  [211  97 131]\n",
            "  [207 104 136]\n",
            "  ...\n",
            "  [240 226 234]\n",
            "  [236 223 231]\n",
            "  [197 159 184]]\n",
            "\n",
            " [[221 120 151]\n",
            "  [218 113 147]\n",
            "  [219 112 149]\n",
            "  ...\n",
            "  [242 241 241]\n",
            "  [244 240 241]\n",
            "  [242 241 238]]]\n"
          ]
        }
      ],
      "source": [
        "import numpy as np\n",
        "import matplotlib.pyplot as plt\n",
        "img_as_array = np.asarray(img)\n",
        "\n",
        "img_as_array.shape # height, width, color channels\n",
        "print(img_as_array)"
      ]
    },
    {
      "cell_type": "markdown",
      "metadata": {
        "id": "MiBMXwKTh9nB"
      },
      "source": [
        "Lets turn our data into tensors"
      ]
    },
    {
      "cell_type": "code",
      "execution_count": null,
      "metadata": {
        "colab": {
          "base_uri": "https://localhost:8080/",
          "height": 302
        },
        "id": "vVctxGpVhn7f",
        "outputId": "fe12f7c6-b9c0-49ba-bd19-a42fa96d3791"
      },
      "outputs": [
        {
          "output_type": "execute_result",
          "data": {
            "text/plain": [
              "(-0.5, 49.5, 49.5, -0.5)"
            ]
          },
          "metadata": {},
          "execution_count": 7
        },
        {
          "output_type": "display_data",
          "data": {
            "text/plain": [
              "<Figure size 640x480 with 2 Axes>"
            ],
            "image/png": "[encoded data removed]"
          },
          "metadata": {}
        }
      ],
      "source": [
        "import torch\n",
        "from torchvision import datasets, transforms\n",
        "from PIL import Image\n",
        "import random\n",
        "train_images_path = Path(\"/content/data/train\")\n",
        "train_image_path_list = list(train_images_path.glob(\"*/*.png\"))\n",
        "random_train_image_path = random.choice(train_image_path_list)\n",
        "img = Image.open(random_train_image_path)\n",
        "# Tranform the data into larger images\n",
        "data_transform = transforms.Compose([\n",
        "    transforms.Resize(size=(64,64)), # 64 x 64 images\n",
        "    transforms.RandomHorizontalFlip(p=0.6),# Randomly flip our data along the x-axis\n",
        "    transforms.ToTensor() # turns a PIL image or np array to pytorch tensor\n",
        "])\n",
        "transformed_image = data_transform(img).permute(1,2,0)\n",
        "fig,ax = plt.subplots(nrows=1,ncols=2)\n",
        "ax[0].imshow(transformed_image)\n",
        "ax[0].set_title(\"Transformed\")\n",
        "ax[0].axis(\"off\")\n",
        "ax[1].imshow(img)\n",
        "ax[1].set_title(\"Original\")\n",
        "ax[1].axis(\"off\")"
      ]
    },
    {
      "cell_type": "code",
      "execution_count": null,
      "metadata": {
        "colab": {
          "base_uri": "https://localhost:8080/"
        },
        "id": "2yjeQwANIeht",
        "outputId": "fdc5fddb-973f-47cc-daf0-3cdd31184d32"
      },
      "outputs": [
        {
          "output_type": "execute_result",
          "data": {
            "text/plain": [
              "(Dataset ImageFolder\n",
              "     Number of datapoints: 208142\n",
              "     Root location: /content/data/train\n",
              "     StandardTransform\n",
              " Transform: Compose(\n",
              "                Resize(size=(64, 64), interpolation=bilinear, max_size=None, antialias=warn)\n",
              "                RandomHorizontalFlip(p=0.6)\n",
              "                ToTensor()\n",
              "            ),\n",
              " Dataset ImageFolder\n",
              "     Number of datapoints: 69382\n",
              "     Root location: /content/data/test\n",
              "     StandardTransform\n",
              " Transform: Compose(\n",
              "                Resize(size=(64, 64), interpolation=bilinear, max_size=None, antialias=warn)\n",
              "                RandomHorizontalFlip(p=0.6)\n",
              "                ToTensor()\n",
              "            ))"
            ]
          },
          "metadata": {},
          "execution_count": 8
        }
      ],
      "source": [
        "#Image folder to create datasets\n",
        "train_data = datasets.ImageFolder(root=train_dir,\n",
        "                                  transform = data_transform,\n",
        "                                  target_transform=None,  #A transform for label/taget\n",
        "                                  )\n",
        "test_data = datasets.ImageFolder(root=test_dir,\n",
        "                                 transform = data_transform)\n",
        "train_data, test_data"
      ]
    },
    {
      "cell_type": "code",
      "execution_count": null,
      "metadata": {
        "id": "NK2_pdNdcnNr"
      },
      "outputs": [],
      "source": [
        "from torch.utils.data import Subset, DataLoader, random_split\n",
        "subset_size = 30000\n",
        "train_random_sampler = torch.utils.data.RandomSampler(train_data, replacement=False, num_samples=subset_size)\n",
        "test_random_sampler = torch.utils.data.RandomSampler(test_data, replacement=False, num_samples=subset_size)\n",
        "\n",
        "# Create a SubsetRandomSampler\n",
        "train_subset_indices = list(train_random_sampler)\n",
        "test_subset_indices = list(test_random_sampler)\n",
        "# Create a Subset of the original full_dataset using the random indices\n",
        "train_subset = Subset(train_data, train_subset_indices)\n",
        "test_subset = Subset(test_data, test_subset_indices)\n",
        "# Define batch size and other DataLoader parameters\n",
        "BATCH_SIZE = 45\n",
        "num_workers = 1\n",
        "shuffle = True\n",
        "\n",
        "# Create a new DataLoader for the subset\n",
        "train_subset_dataloader = DataLoader(train_subset, batch_size=BATCH_SIZE, num_workers=num_workers, shuffle=shuffle)\n",
        "test_subset_dataloader = DataLoader(test_subset, batch_size=BATCH_SIZE, num_workers=num_workers, shuffle=shuffle)\n",
        "# Now, you can iterate through subset_dataloader to get the desired subset of data\n",
        "for batch in train_subset_dataloader:\n",
        "  train_feature, train_labels = batch\n",
        "for batch in test_subset_dataloader:\n",
        "  test_feature, test_labels = batch\n",
        "train_feature, train_labels = next(iter(train_subset_dataloader))"
      ]
    },
    {
      "cell_type": "code",
      "execution_count": null,
      "metadata": {
        "colab": {
          "base_uri": "https://localhost:8080/"
        },
        "id": "_cWF12EDOzU8",
        "outputId": "a7462d98-028d-4f6e-9f46-be81d866e185"
      },
      "outputs": [
        {
          "output_type": "execute_result",
          "data": {
            "text/plain": [
              "torch.Size([3, 64, 64])"
            ]
          },
          "metadata": {},
          "execution_count": 10
        }
      ],
      "source": [
        "img, label = train_data[0][0], train_data[0][1]\n",
        "img.shape"
      ]
    },
    {
      "cell_type": "code",
      "execution_count": null,
      "metadata": {
        "colab": {
          "base_uri": "https://localhost:8080/"
        },
        "id": "Uq_uSyiCPwnC",
        "outputId": "68deafca-dc59-48d2-8f6b-3ad4889c6e9b"
      },
      "outputs": [
        {
          "output_type": "execute_result",
          "data": {
            "text/plain": [
              "(208142, 69382)"
            ]
          },
          "metadata": {},
          "execution_count": 11
        }
      ],
      "source": [
        "len(train_data),len(test_data)"
      ]
    },
    {
      "cell_type": "code",
      "execution_count": null,
      "metadata": {
        "colab": {
          "base_uri": "https://localhost:8080/"
        },
        "id": "31L3UuUqQeRw",
        "outputId": "b497be11-b1d6-43c9-ff33-dc9a179258eb"
      },
      "outputs": [
        {
          "output_type": "execute_result",
          "data": {
            "text/plain": [
              "(torch.Size([200, 3, 64, 64]), torch.Size([200]))"
            ]
          },
          "metadata": {},
          "execution_count": 12
        }
      ],
      "source": [
        "from torch.utils.data import DataLoader\n",
        "from torch import nn\n",
        "BATCH_SIZE = 200\n",
        "train_dataloader = DataLoader(dataset = train_data,\n",
        "                              batch_size = BATCH_SIZE,\n",
        "                              num_workers =1,\n",
        "                              shuffle=True)\n",
        "test_dataloader = DataLoader(dataset = test_data,\n",
        "                              batch_size = BATCH_SIZE,\n",
        "                              num_workers =1,\n",
        "                              shuffle=True)\n",
        "train_feature, train_labels = next(iter(train_dataloader))\n",
        "train_feature.shape, train_labels.shape"
      ]
    },
    {
      "cell_type": "code",
      "execution_count": null,
      "metadata": {
        "colab": {
          "base_uri": "https://localhost:8080/"
        },
        "id": "AP3KUZ-99lJH",
        "outputId": "ef6d656e-df95-4b7f-f6a3-2121258104ff"
      },
      "outputs": [
        {
          "output_type": "execute_result",
          "data": {
            "text/plain": [
              "(torch.Size([200, 3, 64, 64]), torch.Size([200]))"
            ]
          },
          "metadata": {},
          "execution_count": 13
        }
      ],
      "source": [
        "train_feature.shape, train_labels.shape"
      ]
    },
    {
      "cell_type": "code",
      "execution_count": null,
      "metadata": {
        "id": "MszRPJn_T1zk"
      },
      "outputs": [],
      "source": [
        "class NewModel(nn.Module):\n",
        "  def __init__(self):\n",
        "    super().__init__()\n",
        "    self.conv_layer = nn.Sequential(\n",
        "        nn.Conv2d(in_channels=3,\n",
        "                  out_channels=64,\n",
        "                  kernel_size = 3,\n",
        "                  stride =1,\n",
        "                  padding =1),\n",
        "        nn.ReLU(),\n",
        "        nn.MaxPool2d(kernel_size = 2))\n",
        "    self.connected_layer = nn.Sequential(\n",
        "        nn.Flatten(),\n",
        "        nn.Linear(in_features = 36864,\n",
        "                  out_features = 128),\n",
        "        nn.ReLU(),\n",
        "        nn.Linear(in_features = 128,\n",
        "                  out_features = 512),\n",
        "        nn.ReLU(),\n",
        "        nn.Dropout(p=.4),\n",
        "        nn.Linear(in_features = 512,\n",
        "                  out_features = 1))\n",
        "  def forward(self,x):\n",
        "    x = self.conv_layer(x)\n",
        "    x = self.connected_layer(x)\n",
        "    return x"
      ]
    },
    {
      "cell_type": "code",
      "execution_count": null,
      "metadata": {
        "id": "DXfxL6ghAxFi"
      },
      "outputs": [],
      "source": [
        "from torch import nn\n",
        "class OverfitModel1(nn.Module):\n",
        "  def __init__(self):\n",
        "    super().__init__()\n",
        "    self.conv_layer1 = nn.Sequential(\n",
        "        nn.Conv2d(in_channels = 3,\n",
        "                  out_channels = 20,\n",
        "                  kernel_size = 3,\n",
        "                  stride = 1,\n",
        "                  padding = 1),\n",
        "        nn.ReLU(),\n",
        "        nn.BatchNorm2d(num_features=20),\n",
        "        nn.Conv2d(in_channels = 20,\n",
        "                  out_channels = 20,\n",
        "                  kernel_size = 3,\n",
        "                  stride = 1,\n",
        "                  padding = 1),\n",
        "        nn.ReLU(),\n",
        "        nn.BatchNorm2d(num_features= 20),\n",
        "        nn.MaxPool2d(kernel_size = 2))\n",
        "    self.conv_layer2 = nn.Sequential(\n",
        "        nn.Conv2d(in_channels = 20,\n",
        "                  out_channels = 40,\n",
        "                  kernel_size = 3,\n",
        "                  stride = 1,\n",
        "                  padding = 1),\n",
        "        nn.ReLU(),\n",
        "        nn.BatchNorm2d(num_features = 40),\n",
        "        nn.Conv2d(in_channels = 40,\n",
        "                  out_channels = 40,\n",
        "                  kernel_size = 3,\n",
        "                  stride = 1,\n",
        "                  padding = 1),\n",
        "        nn.ReLU(),\n",
        "        nn.BatchNorm2d(num_features = 40),\n",
        "        nn.MaxPool2d(kernel_size = 2))\n",
        "    self.conv_layer3 = nn.Sequential(\n",
        "        nn.Conv2d(in_channels = 40,\n",
        "                  out_channels = 40,\n",
        "                  kernel_size = 3,\n",
        "                  stride = 1,\n",
        "                  padding = 1),\n",
        "        nn.ReLU())\n",
        "    self.connected_layer = nn.Sequential(\n",
        "        nn.Flatten(),\n",
        "        nn.Linear(in_features = 10240,\n",
        "                  out_features = 64),\n",
        "        nn.ReLU(),\n",
        "        nn.Dropout(.4),\n",
        "        nn.Linear(in_features = 64,\n",
        "                  out_features = 1)\n",
        "        )\n",
        "  def forward(self, X):\n",
        "    X = self.conv_layer1(X)\n",
        "    X = self.conv_layer2(X)\n",
        "    X = self.conv_layer3(X)\n",
        "    X = self.connected_layer(X)\n",
        "    return X"
      ]
    },
    {
      "cell_type": "code",
      "execution_count": null,
      "metadata": {
        "id": "SLu42Fdyu5qQ"
      },
      "outputs": [],
      "source": [
        "from torch import nn\n",
        "class PredictionModel2(nn.Module):\n",
        "  def __init__(self):\n",
        "    super().__init__()\n",
        "    self.conv_layer1 = nn.Sequential(\n",
        "        nn.Conv2d(in_channels = 3,\n",
        "                  out_channels = 10,\n",
        "                  kernel_size = 3,\n",
        "                  stride = 1,\n",
        "                  padding = 1),\n",
        "        nn.ReLU(),\n",
        "        nn.BatchNorm2d(num_features=10),\n",
        "        nn.MaxPool2d(kernel_size = 2),\n",
        "        nn.Conv2d(in_channels = 10,\n",
        "                  out_channels = 15,\n",
        "                  kernel_size = 3,\n",
        "                  stride = 1,\n",
        "                  padding = 1),\n",
        "        nn.ReLU(),\n",
        "        nn.BatchNorm2d(num_features=15),\n",
        "        nn.MaxPool2d(kernel_size = 3, stride = 2),\n",
        "        nn.Dropout(p=.3))\n",
        "    self.conv_layer2 = nn.Sequential(\n",
        "        nn.Conv2d(in_channels = 15,\n",
        "                  out_channels = 20,\n",
        "                  kernel_size = 3,\n",
        "                  stride = 1,\n",
        "                  padding = 1),\n",
        "        nn.ReLU(),\n",
        "        nn.BatchNorm2d(num_features=20),\n",
        "        nn.MaxPool2d(kernel_size = 3, stride = 2),\n",
        "        nn.Conv2d(in_channels = 20,\n",
        "                  out_channels = 20,\n",
        "                  kernel_size = 3,\n",
        "                  stride = 1,\n",
        "                  padding = 1),\n",
        "        nn.ReLU(),\n",
        "        nn.BatchNorm2d(num_features=20),\n",
        "        nn.MaxPool2d(kernel_size = 3, stride = 2),\n",
        "        nn.Dropout(p=.3))\n",
        "    self.connected_layer = nn.Sequential(\n",
        "        nn.Flatten(),\n",
        "        nn.Linear(in_features = 180,\n",
        "                  out_features = 10),\n",
        "        nn.ReLU(),\n",
        "        nn.Linear(in_features = 10,\n",
        "                  out_features = 1)\n",
        "        )\n",
        "  def forward(self, X):\n",
        "    X = self.conv_layer1(X)\n",
        "    X = self.conv_layer2(X)\n",
        "    X = self.connected_layer(X)\n",
        "    return X"
      ]
    },
    {
      "cell_type": "code",
      "execution_count": null,
      "metadata": {
        "id": "0MZ6rRuUTSba"
      },
      "outputs": [],
      "source": [
        "class PredictionModel0(nn.Module):\n",
        "  def __init__(self):\n",
        "    super().__init__()\n",
        "    self.dense = nn.Sequential(\n",
        "        nn.Flatten(),\n",
        "        nn.Linear(64*64*3,720),\n",
        "        nn.ReLU(),\n",
        "        nn.Linear(720,360),\n",
        "        nn.ReLU(),\n",
        "        nn.Linear(360,180),\n",
        "        nn.ReLU(),\n",
        "        nn.Linear(180,90),\n",
        "        nn.ReLU(),\n",
        "        nn.Linear(90,45),\n",
        "        nn.ReLU())\n",
        "    self.classifier = nn.Linear(45,1)\n",
        "  def forward(self,x):\n",
        "    x = self.dense(x)\n",
        "    x = self.classifier(x)\n",
        "    return x\n"
      ]
    },
    {
      "cell_type": "code",
      "execution_count": null,
      "metadata": {
        "id": "WNVLDqjpUahE"
      },
      "outputs": [],
      "source": [
        "from torch import nn\n",
        "class PredictionModel1(nn.Module):\n",
        "  def __init__(self):\n",
        "    super().__init__()\n",
        "    self.conv_layer1 = nn.Sequential(\n",
        "        nn.Conv2d(in_channels = 3,\n",
        "                  out_channels = 6,\n",
        "                  kernel_size = 3,\n",
        "                  stride = 1,\n",
        "                  padding = 1),\n",
        "        nn.ReLU(),\n",
        "        nn.BatchNorm2d(6,3),\n",
        "        nn.MaxPool2d(kernel_size = 3, stride = 2),\n",
        "        nn.Dropout(p=.4))\n",
        "    self.connected_layer = nn.Sequential(\n",
        "        nn.Flatten(),\n",
        "        nn.Linear(in_features = 5766,\n",
        "                  out_features = 1),\n",
        "        nn.ReLU(),\n",
        "        nn.Linear(in_features = 64,\n",
        "                  out_features = 1)\n",
        "        )\n",
        "  def forward(self, X):\n",
        "    X = self.conv_layer1(X)\n",
        "    X = self.connected_layer(X)\n",
        "    return X"
      ]
    },
    {
      "cell_type": "code",
      "execution_count": null,
      "metadata": {
        "colab": {
          "base_uri": "https://localhost:8080/"
        },
        "id": "voXJklfGcL4E",
        "outputId": "09cba481-fe46-494b-f1ee-6e4e8e1012bc"
      },
      "outputs": [
        {
          "output_type": "execute_result",
          "data": {
            "text/plain": [
              "2"
            ]
          },
          "metadata": {},
          "execution_count": 63
        }
      ],
      "source": [
        "len(train_data.classes)"
      ]
    },
    {
      "cell_type": "code",
      "execution_count": null,
      "metadata": {
        "colab": {
          "base_uri": "https://localhost:8080/"
        },
        "id": "peUONuoOmsLh",
        "outputId": "32e1ab36-4d22-41e4-e89c-4ce22cce969f"
      },
      "outputs": [
        {
          "output_type": "execute_result",
          "data": {
            "text/plain": [
              "torch.Size([3, 64, 64])"
            ]
          },
          "metadata": {},
          "execution_count": 64
        }
      ],
      "source": [
        "img.shape"
      ]
    },
    {
      "cell_type": "code",
      "execution_count": null,
      "metadata": {
        "colab": {
          "base_uri": "https://localhost:8080/"
        },
        "id": "91HHqzRUAcvb",
        "outputId": "21e851cf-b283-4cfa-b35f-4d84e8f92ebe"
      },
      "outputs": [
        {
          "output_type": "execute_result",
          "data": {
            "text/plain": [
              "torch.Size([200, 1])"
            ]
          },
          "metadata": {},
          "execution_count": 70
        }
      ],
      "source": [
        "import torch.nn.utils.prune as prune\n",
        "device = \"cuda\" if torch.cuda.is_available() else \"cpu\"\n",
        "model = PredictionModel2().to(device)\n",
        "loss_fn = nn.BCEWithLogitsLoss()\n",
        "optimizer = torch.optim.Adam(params = model.parameters(),\n",
        "                          lr = .001,)\n",
        "model(train_feature.to(device)).shape"
      ]
    },
    {
      "cell_type": "code",
      "execution_count": null,
      "metadata": {
        "id": "0bwIZuNq-9Tg"
      },
      "outputs": [],
      "source": [
        "def accuracy_fn(y_true, y_pred):\n",
        "    correct = torch.sum(torch.eq(y_pred,y_true)).item()\n",
        "    acc = (correct / len(y_true)) * 100\n",
        "    return acc"
      ]
    },
    {
      "cell_type": "code",
      "execution_count": null,
      "metadata": {
        "id": "7nY4cIaQ4L-Y"
      },
      "outputs": [],
      "source": [
        "train_feature, train_labels = next(iter(train_dataloader))\n",
        "train_feature.shape, train_labels.shape\n"
      ]
    },
    {
      "cell_type": "code",
      "execution_count": null,
      "metadata": {
        "id": "xEPKLUbZ3zl7"
      },
      "outputs": [],
      "source": [
        "test_logits = model(train_feature.to(device))\n",
        "y_test = train_labels.to(device)\n",
        "y_pred = torch.round(torch.sigmoid(test_logits)).squeeze().to(device)\n",
        "print(y_pred.shape)\n",
        "acc = accuracy_fn(y_true = y_test, y_pred = y_pred)\n",
        "acc, len(y_pred)"
      ]
    },
    {
      "cell_type": "code",
      "execution_count": null,
      "metadata": {
        "id": "OQ9uoXJk-hUs"
      },
      "outputs": [],
      "source": [
        "y_logits = model.forward(train_feature.to(device))\n",
        "y_pred = torch.round(torch.sigmoid(y_logits))\n",
        "y_pred.shape,y_logits.shape, train_labels.dtype"
      ]
    },
    {
      "cell_type": "code",
      "execution_count": null,
      "metadata": {
        "colab": {
          "base_uri": "https://localhost:8080/",
          "height": 1000,
          "referenced_widgets": [
            "2fd0958f31784af7b7164ed8fc01701b",
            "ea21d1df6ef24f7baac06a263e688384",
            "f38dd0036e784324bfba9ba9f43e2e69",
            "53ad876f1c5b477282548aafc675fc3d",
            "d020757c34894bf5b6f192d616e4c7e9",
            "5175fa3a9b054935b04ebaa07697c375",
            "9060b58bf6854a868536894371d03827",
            "51c8838f5776415dab4816398013af48",
            "5ad9123f27724065ab7a11e120963a88",
            "4ae88c7ce95a499aba5ef2b1cd941b8e",
            "265f72a6dcc04161a8c56a68ae6cc04b"
          ]
        },
        "id": "NQsmAz8D9wYn",
        "outputId": "3995db46-a129-4ed3-9432-5fc50eaeacc0"
      },
      "outputs": [
        {
          "output_type": "display_data",
          "data": {
            "text/plain": [
              "  0%|          | 0/50 [00:00<?, ?it/s]"
            ],
            "application/vnd.jupyter.widget-view+json": {
              "version_major": 2,
              "version_minor": 0,
              "model_id": "2fd0958f31784af7b7164ed8fc01701b"
            }
          },
          "metadata": {}
        },
        {
          "output_type": "stream",
          "name": "stdout",
          "text": [
            " Model has seen data 0 times \n",
            " -------------\n",
            "Looked at 0 / 30000 samples.\n",
            "Looked at 9000 / 30000 samples.\n",
            "Looked at 18000 / 30000 samples.\n",
            "Looked at 27000 / 30000 samples.\n",
            "\n",
            "Train loss avg:  0.3852 | Train acc avg:  83.5416 | Test loss avg:  0.3869, Test acc avg:  82.9319\n",
            " Model has seen data 1 times \n",
            " -------------\n",
            "Looked at 0 / 30000 samples.\n",
            "Looked at 9000 / 30000 samples.\n",
            "Looked at 18000 / 30000 samples.\n",
            "Looked at 27000 / 30000 samples.\n",
            "\n",
            "Train loss avg:  0.3511 | Train acc avg:  85.2274 | Test loss avg:  0.6355, Test acc avg:  66.1003\n",
            " Model has seen data 2 times \n",
            " -------------\n",
            "Looked at 0 / 30000 samples.\n",
            "Looked at 9000 / 30000 samples.\n",
            "Looked at 18000 / 30000 samples.\n",
            "Looked at 27000 / 30000 samples.\n",
            "\n",
            "Train loss avg:  0.3390 | Train acc avg:  85.8487 | Test loss avg:  0.3607, Test acc avg:  84.6393\n",
            " Model has seen data 3 times \n",
            " -------------\n",
            "Looked at 0 / 30000 samples.\n",
            "Looked at 9000 / 30000 samples.\n",
            "Looked at 18000 / 30000 samples.\n",
            "Looked at 27000 / 30000 samples.\n",
            "\n",
            "Train loss avg:  0.3319 | Train acc avg:  85.9987 | Test loss avg:  0.3717, Test acc avg:  84.1846\n",
            " Model has seen data 4 times \n",
            " -------------\n",
            "Looked at 0 / 30000 samples.\n",
            "Looked at 9000 / 30000 samples.\n",
            "Looked at 18000 / 30000 samples.\n",
            "Looked at 27000 / 30000 samples.\n",
            "\n",
            "Train loss avg:  0.3270 | Train acc avg:  86.4135 | Test loss avg:  0.3959, Test acc avg:  83.4000\n",
            " Model has seen data 5 times \n",
            " -------------\n",
            "Looked at 0 / 30000 samples.\n",
            "Looked at 9000 / 30000 samples.\n",
            "Looked at 18000 / 30000 samples.\n",
            "Looked at 27000 / 30000 samples.\n",
            "\n",
            "Train loss avg:  0.3228 | Train acc avg:  86.5534 | Test loss avg:  0.3501, Test acc avg:  85.1241\n",
            " Model has seen data 6 times \n",
            " -------------\n",
            "Looked at 0 / 30000 samples.\n",
            "Looked at 9000 / 30000 samples.\n",
            "Looked at 18000 / 30000 samples.\n",
            "Looked at 27000 / 30000 samples.\n",
            "\n",
            "Train loss avg:  0.3194 | Train acc avg:  86.5850 | Test loss avg:  0.5427, Test acc avg:  72.6887\n",
            " Model has seen data 7 times \n",
            " -------------\n",
            "Looked at 0 / 30000 samples.\n",
            "Looked at 9000 / 30000 samples.\n",
            "Looked at 18000 / 30000 samples.\n",
            "Looked at 27000 / 30000 samples.\n",
            "\n",
            "Train loss avg:  0.3173 | Train acc avg:  86.8816 | Test loss avg:  0.3604, Test acc avg:  83.9197\n",
            " Model has seen data 8 times \n",
            " -------------\n",
            "Looked at 0 / 30000 samples.\n",
            "Looked at 9000 / 30000 samples.\n",
            "Looked at 18000 / 30000 samples.\n",
            "Looked at 27000 / 30000 samples.\n",
            "\n",
            "Train loss avg:  0.3156 | Train acc avg:  86.8782 | Test loss avg:  0.4381, Test acc avg:  80.0983\n",
            " Model has seen data 9 times \n",
            " -------------\n",
            "Looked at 0 / 30000 samples.\n",
            "Looked at 9000 / 30000 samples.\n",
            "Looked at 18000 / 30000 samples.\n",
            "Looked at 27000 / 30000 samples.\n",
            "\n",
            "Train loss avg:  0.3128 | Train acc avg:  86.8133 | Test loss avg:  0.3366, Test acc avg:  85.0975\n",
            " Model has seen data 10 times \n",
            " -------------\n",
            "Looked at 0 / 30000 samples.\n"
          ]
        },
        {
          "output_type": "error",
          "ename": "KeyboardInterrupt",
          "evalue": "ignored",
          "traceback": [
            "\u001b[0;31m---------------------------------------------------------------------------\u001b[0m",
            "\u001b[0;31mKeyboardInterrupt\u001b[0m                         Traceback (most recent call last)",
            "\u001b[0;32m<ipython-input-71-bec4414bf7a3>\u001b[0m in \u001b[0;36m<cell line: 6>\u001b[0;34m()\u001b[0m\n\u001b[1;32m     10\u001b[0m   \u001b[0mtest_loss\u001b[0m \u001b[0;34m=\u001b[0m \u001b[0;36m0\u001b[0m\u001b[0;34m\u001b[0m\u001b[0;34m\u001b[0m\u001b[0m\n\u001b[1;32m     11\u001b[0m   \u001b[0mtest_acc\u001b[0m \u001b[0;34m=\u001b[0m \u001b[0;36m0\u001b[0m\u001b[0;34m\u001b[0m\u001b[0;34m\u001b[0m\u001b[0m\n\u001b[0;32m---> 12\u001b[0;31m   \u001b[0;32mfor\u001b[0m \u001b[0mbatch\u001b[0m\u001b[0;34m,\u001b[0m \u001b[0;34m(\u001b[0m\u001b[0mX\u001b[0m\u001b[0;34m,\u001b[0m\u001b[0my\u001b[0m\u001b[0;34m)\u001b[0m \u001b[0;32min\u001b[0m \u001b[0menumerate\u001b[0m\u001b[0;34m(\u001b[0m\u001b[0mtrain_subset_dataloader\u001b[0m\u001b[0;34m)\u001b[0m\u001b[0;34m:\u001b[0m\u001b[0;34m\u001b[0m\u001b[0;34m\u001b[0m\u001b[0m\n\u001b[0m\u001b[1;32m     13\u001b[0m     \u001b[0mX\u001b[0m\u001b[0;34m,\u001b[0m\u001b[0my\u001b[0m \u001b[0;34m=\u001b[0m \u001b[0mX\u001b[0m\u001b[0;34m.\u001b[0m\u001b[0mto\u001b[0m\u001b[0;34m(\u001b[0m\u001b[0mdevice\u001b[0m\u001b[0;34m)\u001b[0m\u001b[0;34m,\u001b[0m\u001b[0my\u001b[0m\u001b[0;34m.\u001b[0m\u001b[0mto\u001b[0m\u001b[0;34m(\u001b[0m\u001b[0mdevice\u001b[0m\u001b[0;34m)\u001b[0m\u001b[0;34m\u001b[0m\u001b[0;34m\u001b[0m\u001b[0m\n\u001b[1;32m     14\u001b[0m     \u001b[0my\u001b[0m \u001b[0;34m=\u001b[0m \u001b[0my\u001b[0m\u001b[0;34m.\u001b[0m\u001b[0mto\u001b[0m\u001b[0;34m(\u001b[0m\u001b[0mtorch\u001b[0m\u001b[0;34m.\u001b[0m\u001b[0mfloat32\u001b[0m\u001b[0;34m)\u001b[0m\u001b[0;34m\u001b[0m\u001b[0;34m\u001b[0m\u001b[0m\n",
            "\u001b[0;32m/usr/local/lib/python3.10/dist-packages/torch/utils/data/dataloader.py\u001b[0m in \u001b[0;36m__next__\u001b[0;34m(self)\u001b[0m\n\u001b[1;32m    631\u001b[0m                 \u001b[0;31m# TODO(https://github.com/pytorch/pytorch/issues/76750)\u001b[0m\u001b[0;34m\u001b[0m\u001b[0;34m\u001b[0m\u001b[0m\n\u001b[1;32m    632\u001b[0m                 \u001b[0mself\u001b[0m\u001b[0;34m.\u001b[0m\u001b[0m_reset\u001b[0m\u001b[0;34m(\u001b[0m\u001b[0;34m)\u001b[0m  \u001b[0;31m# type: ignore[call-arg]\u001b[0m\u001b[0;34m\u001b[0m\u001b[0;34m\u001b[0m\u001b[0m\n\u001b[0;32m--> 633\u001b[0;31m             \u001b[0mdata\u001b[0m \u001b[0;34m=\u001b[0m \u001b[0mself\u001b[0m\u001b[0;34m.\u001b[0m\u001b[0m_next_data\u001b[0m\u001b[0;34m(\u001b[0m\u001b[0;34m)\u001b[0m\u001b[0;34m\u001b[0m\u001b[0;34m\u001b[0m\u001b[0m\n\u001b[0m\u001b[1;32m    634\u001b[0m             \u001b[0mself\u001b[0m\u001b[0;34m.\u001b[0m\u001b[0m_num_yielded\u001b[0m \u001b[0;34m+=\u001b[0m \u001b[0;36m1\u001b[0m\u001b[0;34m\u001b[0m\u001b[0;34m\u001b[0m\u001b[0m\n\u001b[1;32m    635\u001b[0m             \u001b[0;32mif\u001b[0m \u001b[0mself\u001b[0m\u001b[0;34m.\u001b[0m\u001b[0m_dataset_kind\u001b[0m \u001b[0;34m==\u001b[0m \u001b[0m_DatasetKind\u001b[0m\u001b[0;34m.\u001b[0m\u001b[0mIterable\u001b[0m \u001b[0;32mand\u001b[0m\u001b[0;31m \u001b[0m\u001b[0;31m\\\u001b[0m\u001b[0;34m\u001b[0m\u001b[0;34m\u001b[0m\u001b[0m\n",
            "\u001b[0;32m/usr/local/lib/python3.10/dist-packages/torch/utils/data/dataloader.py\u001b[0m in \u001b[0;36m_next_data\u001b[0;34m(self)\u001b[0m\n\u001b[1;32m   1326\u001b[0m \u001b[0;34m\u001b[0m\u001b[0m\n\u001b[1;32m   1327\u001b[0m             \u001b[0;32massert\u001b[0m \u001b[0;32mnot\u001b[0m \u001b[0mself\u001b[0m\u001b[0;34m.\u001b[0m\u001b[0m_shutdown\u001b[0m \u001b[0;32mand\u001b[0m \u001b[0mself\u001b[0m\u001b[0;34m.\u001b[0m\u001b[0m_tasks_outstanding\u001b[0m \u001b[0;34m>\u001b[0m \u001b[0;36m0\u001b[0m\u001b[0;34m\u001b[0m\u001b[0;34m\u001b[0m\u001b[0m\n\u001b[0;32m-> 1328\u001b[0;31m             \u001b[0midx\u001b[0m\u001b[0;34m,\u001b[0m \u001b[0mdata\u001b[0m \u001b[0;34m=\u001b[0m \u001b[0mself\u001b[0m\u001b[0;34m.\u001b[0m\u001b[0m_get_data\u001b[0m\u001b[0;34m(\u001b[0m\u001b[0;34m)\u001b[0m\u001b[0;34m\u001b[0m\u001b[0;34m\u001b[0m\u001b[0m\n\u001b[0m\u001b[1;32m   1329\u001b[0m             \u001b[0mself\u001b[0m\u001b[0;34m.\u001b[0m\u001b[0m_tasks_outstanding\u001b[0m \u001b[0;34m-=\u001b[0m \u001b[0;36m1\u001b[0m\u001b[0;34m\u001b[0m\u001b[0;34m\u001b[0m\u001b[0m\n\u001b[1;32m   1330\u001b[0m             \u001b[0;32mif\u001b[0m \u001b[0mself\u001b[0m\u001b[0;34m.\u001b[0m\u001b[0m_dataset_kind\u001b[0m \u001b[0;34m==\u001b[0m \u001b[0m_DatasetKind\u001b[0m\u001b[0;34m.\u001b[0m\u001b[0mIterable\u001b[0m\u001b[0;34m:\u001b[0m\u001b[0;34m\u001b[0m\u001b[0;34m\u001b[0m\u001b[0m\n",
            "\u001b[0;32m/usr/local/lib/python3.10/dist-packages/torch/utils/data/dataloader.py\u001b[0m in \u001b[0;36m_get_data\u001b[0;34m(self)\u001b[0m\n\u001b[1;32m   1292\u001b[0m         \u001b[0;32melse\u001b[0m\u001b[0;34m:\u001b[0m\u001b[0;34m\u001b[0m\u001b[0;34m\u001b[0m\u001b[0m\n\u001b[1;32m   1293\u001b[0m             \u001b[0;32mwhile\u001b[0m \u001b[0;32mTrue\u001b[0m\u001b[0;34m:\u001b[0m\u001b[0;34m\u001b[0m\u001b[0;34m\u001b[0m\u001b[0m\n\u001b[0;32m-> 1294\u001b[0;31m                 \u001b[0msuccess\u001b[0m\u001b[0;34m,\u001b[0m \u001b[0mdata\u001b[0m \u001b[0;34m=\u001b[0m \u001b[0mself\u001b[0m\u001b[0;34m.\u001b[0m\u001b[0m_try_get_data\u001b[0m\u001b[0;34m(\u001b[0m\u001b[0;34m)\u001b[0m\u001b[0;34m\u001b[0m\u001b[0;34m\u001b[0m\u001b[0m\n\u001b[0m\u001b[1;32m   1295\u001b[0m                 \u001b[0;32mif\u001b[0m \u001b[0msuccess\u001b[0m\u001b[0;34m:\u001b[0m\u001b[0;34m\u001b[0m\u001b[0;34m\u001b[0m\u001b[0m\n\u001b[1;32m   1296\u001b[0m                     \u001b[0;32mreturn\u001b[0m \u001b[0mdata\u001b[0m\u001b[0;34m\u001b[0m\u001b[0;34m\u001b[0m\u001b[0m\n",
            "\u001b[0;32m/usr/local/lib/python3.10/dist-packages/torch/utils/data/dataloader.py\u001b[0m in \u001b[0;36m_try_get_data\u001b[0;34m(self, timeout)\u001b[0m\n\u001b[1;32m   1130\u001b[0m         \u001b[0;31m#   (bool: whether successfully get data, any: data if successful else None)\u001b[0m\u001b[0;34m\u001b[0m\u001b[0;34m\u001b[0m\u001b[0m\n\u001b[1;32m   1131\u001b[0m         \u001b[0;32mtry\u001b[0m\u001b[0;34m:\u001b[0m\u001b[0;34m\u001b[0m\u001b[0;34m\u001b[0m\u001b[0m\n\u001b[0;32m-> 1132\u001b[0;31m             \u001b[0mdata\u001b[0m \u001b[0;34m=\u001b[0m \u001b[0mself\u001b[0m\u001b[0;34m.\u001b[0m\u001b[0m_data_queue\u001b[0m\u001b[0;34m.\u001b[0m\u001b[0mget\u001b[0m\u001b[0;34m(\u001b[0m\u001b[0mtimeout\u001b[0m\u001b[0;34m=\u001b[0m\u001b[0mtimeout\u001b[0m\u001b[0;34m)\u001b[0m\u001b[0;34m\u001b[0m\u001b[0;34m\u001b[0m\u001b[0m\n\u001b[0m\u001b[1;32m   1133\u001b[0m             \u001b[0;32mreturn\u001b[0m \u001b[0;34m(\u001b[0m\u001b[0;32mTrue\u001b[0m\u001b[0;34m,\u001b[0m \u001b[0mdata\u001b[0m\u001b[0;34m)\u001b[0m\u001b[0;34m\u001b[0m\u001b[0;34m\u001b[0m\u001b[0m\n\u001b[1;32m   1134\u001b[0m         \u001b[0;32mexcept\u001b[0m \u001b[0mException\u001b[0m \u001b[0;32mas\u001b[0m \u001b[0me\u001b[0m\u001b[0;34m:\u001b[0m\u001b[0;34m\u001b[0m\u001b[0;34m\u001b[0m\u001b[0m\n",
            "\u001b[0;32m/usr/lib/python3.10/multiprocessing/queues.py\u001b[0m in \u001b[0;36mget\u001b[0;34m(self, block, timeout)\u001b[0m\n\u001b[1;32m    111\u001b[0m                 \u001b[0;32mif\u001b[0m \u001b[0mblock\u001b[0m\u001b[0;34m:\u001b[0m\u001b[0;34m\u001b[0m\u001b[0;34m\u001b[0m\u001b[0m\n\u001b[1;32m    112\u001b[0m                     \u001b[0mtimeout\u001b[0m \u001b[0;34m=\u001b[0m \u001b[0mdeadline\u001b[0m \u001b[0;34m-\u001b[0m \u001b[0mtime\u001b[0m\u001b[0;34m.\u001b[0m\u001b[0mmonotonic\u001b[0m\u001b[0;34m(\u001b[0m\u001b[0;34m)\u001b[0m\u001b[0;34m\u001b[0m\u001b[0;34m\u001b[0m\u001b[0m\n\u001b[0;32m--> 113\u001b[0;31m                     \u001b[0;32mif\u001b[0m \u001b[0;32mnot\u001b[0m \u001b[0mself\u001b[0m\u001b[0;34m.\u001b[0m\u001b[0m_poll\u001b[0m\u001b[0;34m(\u001b[0m\u001b[0mtimeout\u001b[0m\u001b[0;34m)\u001b[0m\u001b[0;34m:\u001b[0m\u001b[0;34m\u001b[0m\u001b[0;34m\u001b[0m\u001b[0m\n\u001b[0m\u001b[1;32m    114\u001b[0m                         \u001b[0;32mraise\u001b[0m \u001b[0mEmpty\u001b[0m\u001b[0;34m\u001b[0m\u001b[0;34m\u001b[0m\u001b[0m\n\u001b[1;32m    115\u001b[0m                 \u001b[0;32melif\u001b[0m \u001b[0;32mnot\u001b[0m \u001b[0mself\u001b[0m\u001b[0;34m.\u001b[0m\u001b[0m_poll\u001b[0m\u001b[0;34m(\u001b[0m\u001b[0;34m)\u001b[0m\u001b[0;34m:\u001b[0m\u001b[0;34m\u001b[0m\u001b[0;34m\u001b[0m\u001b[0m\n",
            "\u001b[0;32m/usr/lib/python3.10/multiprocessing/connection.py\u001b[0m in \u001b[0;36mpoll\u001b[0;34m(self, timeout)\u001b[0m\n\u001b[1;32m    255\u001b[0m         \u001b[0mself\u001b[0m\u001b[0;34m.\u001b[0m\u001b[0m_check_closed\u001b[0m\u001b[0;34m(\u001b[0m\u001b[0;34m)\u001b[0m\u001b[0;34m\u001b[0m\u001b[0;34m\u001b[0m\u001b[0m\n\u001b[1;32m    256\u001b[0m         \u001b[0mself\u001b[0m\u001b[0;34m.\u001b[0m\u001b[0m_check_readable\u001b[0m\u001b[0;34m(\u001b[0m\u001b[0;34m)\u001b[0m\u001b[0;34m\u001b[0m\u001b[0;34m\u001b[0m\u001b[0m\n\u001b[0;32m--> 257\u001b[0;31m         \u001b[0;32mreturn\u001b[0m \u001b[0mself\u001b[0m\u001b[0;34m.\u001b[0m\u001b[0m_poll\u001b[0m\u001b[0;34m(\u001b[0m\u001b[0mtimeout\u001b[0m\u001b[0;34m)\u001b[0m\u001b[0;34m\u001b[0m\u001b[0;34m\u001b[0m\u001b[0m\n\u001b[0m\u001b[1;32m    258\u001b[0m \u001b[0;34m\u001b[0m\u001b[0m\n\u001b[1;32m    259\u001b[0m     \u001b[0;32mdef\u001b[0m \u001b[0m__enter__\u001b[0m\u001b[0;34m(\u001b[0m\u001b[0mself\u001b[0m\u001b[0;34m)\u001b[0m\u001b[0;34m:\u001b[0m\u001b[0;34m\u001b[0m\u001b[0;34m\u001b[0m\u001b[0m\n",
            "\u001b[0;32m/usr/lib/python3.10/multiprocessing/connection.py\u001b[0m in \u001b[0;36m_poll\u001b[0;34m(self, timeout)\u001b[0m\n\u001b[1;32m    422\u001b[0m \u001b[0;34m\u001b[0m\u001b[0m\n\u001b[1;32m    423\u001b[0m     \u001b[0;32mdef\u001b[0m \u001b[0m_poll\u001b[0m\u001b[0;34m(\u001b[0m\u001b[0mself\u001b[0m\u001b[0;34m,\u001b[0m \u001b[0mtimeout\u001b[0m\u001b[0;34m)\u001b[0m\u001b[0;34m:\u001b[0m\u001b[0;34m\u001b[0m\u001b[0;34m\u001b[0m\u001b[0m\n\u001b[0;32m--> 424\u001b[0;31m         \u001b[0mr\u001b[0m \u001b[0;34m=\u001b[0m \u001b[0mwait\u001b[0m\u001b[0;34m(\u001b[0m\u001b[0;34m[\u001b[0m\u001b[0mself\u001b[0m\u001b[0;34m]\u001b[0m\u001b[0;34m,\u001b[0m \u001b[0mtimeout\u001b[0m\u001b[0;34m)\u001b[0m\u001b[0;34m\u001b[0m\u001b[0;34m\u001b[0m\u001b[0m\n\u001b[0m\u001b[1;32m    425\u001b[0m         \u001b[0;32mreturn\u001b[0m \u001b[0mbool\u001b[0m\u001b[0;34m(\u001b[0m\u001b[0mr\u001b[0m\u001b[0;34m)\u001b[0m\u001b[0;34m\u001b[0m\u001b[0;34m\u001b[0m\u001b[0m\n\u001b[1;32m    426\u001b[0m \u001b[0;34m\u001b[0m\u001b[0m\n",
            "\u001b[0;32m/usr/lib/python3.10/multiprocessing/connection.py\u001b[0m in \u001b[0;36mwait\u001b[0;34m(object_list, timeout)\u001b[0m\n\u001b[1;32m    929\u001b[0m \u001b[0;34m\u001b[0m\u001b[0m\n\u001b[1;32m    930\u001b[0m             \u001b[0;32mwhile\u001b[0m \u001b[0;32mTrue\u001b[0m\u001b[0;34m:\u001b[0m\u001b[0;34m\u001b[0m\u001b[0;34m\u001b[0m\u001b[0m\n\u001b[0;32m--> 931\u001b[0;31m                 \u001b[0mready\u001b[0m \u001b[0;34m=\u001b[0m \u001b[0mselector\u001b[0m\u001b[0;34m.\u001b[0m\u001b[0mselect\u001b[0m\u001b[0;34m(\u001b[0m\u001b[0mtimeout\u001b[0m\u001b[0;34m)\u001b[0m\u001b[0;34m\u001b[0m\u001b[0;34m\u001b[0m\u001b[0m\n\u001b[0m\u001b[1;32m    932\u001b[0m                 \u001b[0;32mif\u001b[0m \u001b[0mready\u001b[0m\u001b[0;34m:\u001b[0m\u001b[0;34m\u001b[0m\u001b[0;34m\u001b[0m\u001b[0m\n\u001b[1;32m    933\u001b[0m                     \u001b[0;32mreturn\u001b[0m \u001b[0;34m[\u001b[0m\u001b[0mkey\u001b[0m\u001b[0;34m.\u001b[0m\u001b[0mfileobj\u001b[0m \u001b[0;32mfor\u001b[0m \u001b[0;34m(\u001b[0m\u001b[0mkey\u001b[0m\u001b[0;34m,\u001b[0m \u001b[0mevents\u001b[0m\u001b[0;34m)\u001b[0m \u001b[0;32min\u001b[0m \u001b[0mready\u001b[0m\u001b[0;34m]\u001b[0m\u001b[0;34m\u001b[0m\u001b[0;34m\u001b[0m\u001b[0m\n",
            "\u001b[0;32m/usr/lib/python3.10/selectors.py\u001b[0m in \u001b[0;36mselect\u001b[0;34m(self, timeout)\u001b[0m\n\u001b[1;32m    414\u001b[0m         \u001b[0mready\u001b[0m \u001b[0;34m=\u001b[0m \u001b[0;34m[\u001b[0m\u001b[0;34m]\u001b[0m\u001b[0;34m\u001b[0m\u001b[0;34m\u001b[0m\u001b[0m\n\u001b[1;32m    415\u001b[0m         \u001b[0;32mtry\u001b[0m\u001b[0;34m:\u001b[0m\u001b[0;34m\u001b[0m\u001b[0;34m\u001b[0m\u001b[0m\n\u001b[0;32m--> 416\u001b[0;31m             \u001b[0mfd_event_list\u001b[0m \u001b[0;34m=\u001b[0m \u001b[0mself\u001b[0m\u001b[0;34m.\u001b[0m\u001b[0m_selector\u001b[0m\u001b[0;34m.\u001b[0m\u001b[0mpoll\u001b[0m\u001b[0;34m(\u001b[0m\u001b[0mtimeout\u001b[0m\u001b[0;34m)\u001b[0m\u001b[0;34m\u001b[0m\u001b[0;34m\u001b[0m\u001b[0m\n\u001b[0m\u001b[1;32m    417\u001b[0m         \u001b[0;32mexcept\u001b[0m \u001b[0mInterruptedError\u001b[0m\u001b[0;34m:\u001b[0m\u001b[0;34m\u001b[0m\u001b[0;34m\u001b[0m\u001b[0m\n\u001b[1;32m    418\u001b[0m             \u001b[0;32mreturn\u001b[0m \u001b[0mready\u001b[0m\u001b[0;34m\u001b[0m\u001b[0;34m\u001b[0m\u001b[0m\n",
            "\u001b[0;31mKeyboardInterrupt\u001b[0m: "
          ]
        }
      ],
      "source": [
        "from tqdm.auto import tqdm\n",
        "torch.manual_seed(12)\n",
        "torch.cuda.manual_seed(12)\n",
        "epochs = 50\n",
        "lr_scheduler = torch.optim.lr_scheduler.ReduceLROnPlateau(optimizer, mode='min', factor=0.1, patience=5, verbose=True)\n",
        "for epoch in tqdm(range(epochs)):\n",
        "  print(f\" Model has seen data {epoch} times \\n -------------\")\n",
        "  train_loss = 0\n",
        "  train_acc = 0\n",
        "  test_loss = 0\n",
        "  test_acc = 0\n",
        "  for batch, (X,y) in enumerate(train_subset_dataloader):\n",
        "    X,y = X.to(device),y.to(device)\n",
        "    y = y.to(torch.float32)\n",
        "    model.train()\n",
        "    y_logits = model.forward(X).squeeze()\n",
        "    y_pred = torch.round(torch.sigmoid(y_logits))\n",
        "    loss = loss_fn(y_logits,y)\n",
        "    acc = accuracy_fn(y_true = y, y_pred = y_pred)\n",
        "    train_loss += loss\n",
        "    train_acc += acc\n",
        "    for param in model.parameters():\n",
        "      param.grad = None\n",
        "    loss.backward()\n",
        "    optimizer.step()\n",
        "    #lr_scheduler.step(loss)\n",
        "    if batch % 200 == 0:\n",
        "      print(f\"Looked at {batch * len(X)} / {len(train_subset_dataloader.dataset)} samples.\")\n",
        "  train_loss /= len(train_subset_dataloader) # average per batch\n",
        "  train_acc /= len(train_subset_dataloader)\n",
        "  test_loss, test_acc = 0,0\n",
        "  model.eval()\n",
        "  with torch.inference_mode():\n",
        "    for X_test,y_test in test_subset_dataloader:\n",
        "      X_test, y_test = X_test.to(device), y_test.to(device)\n",
        "      y_test = y_test.to(torch.float32).squeeze()\n",
        "      test_logits = model(X_test).squeeze()\n",
        "      test_pred = torch.round(torch.sigmoid(test_logits))\n",
        "      test_loss += loss_fn(test_logits,y_test)\n",
        "      test_acc += accuracy_fn(y_true = y_test, y_pred = test_pred)\n",
        "    test_loss /= len(test_subset_dataloader)\n",
        "    test_acc /= len(test_subset_dataloader)\n",
        "    #lr_scheduler.step(test_loss)\n",
        "    print(f\"\\nTrain loss avg: {train_loss: .4f} | Train acc avg: {train_acc: .4f} | Test loss avg: {test_loss: .4f}, Test acc avg: {test_acc: .4f}\")"
      ]
    },
    {
      "cell_type": "code",
      "execution_count": null,
      "metadata": {
        "id": "-yrfMNppo8IL"
      },
      "outputs": [],
      "source": [
        "%cd /content\n",
        "model_dir = 'models'  # Change this to your desired directory name\n",
        "# Create the model directory if it doesn't exist\n",
        "if not os.path.exists(model_dir):\n",
        "    os.makedirs(model_dir)\n",
        "\n",
        "# Assuming 'model' is your PyTorch model\n",
        "model_path = '/content/models/overfit1.pth'\n",
        "torch.save(model.state_dict(), model_path)"
      ]
    },
    {
      "cell_type": "code",
      "execution_count": null,
      "metadata": {
        "id": "zm5eG7zUqdjO"
      },
      "outputs": [],
      "source": []
    }
  ],
  "metadata": {
    "accelerator": "GPU",
    "colab": {
      "machine_shape": "hm",
      "provenance": [],
      "mount_file_id": "1-G5Z-kP5djRdVzuu5vELUE489kEwIvPt",
      "authorship_tag": "ABX9TyOrJ/Q83lqZggLmTPZogXnG",
      "include_colab_link": true
    },
    "kernelspec": {
      "display_name": "Python 3",
      "name": "python3"
    },
    "language_info": {
      "name": "python"
    },
    "widgets": {
      "application/vnd.jupyter.widget-state+json": {
        "2fd0958f31784af7b7164ed8fc01701b": {
          "model_module": "@jupyter-widgets/controls",
          "model_name": "HBoxModel",
          "model_module_version": "1.5.0",
          "state": {
            "_dom_classes": [],
            "_model_module": "@jupyter-widgets/controls",
            "_model_module_version": "1.5.0",
            "_model_name": "HBoxModel",
            "_view_count": null,
            "_view_module": "@jupyter-widgets/controls",
            "_view_module_version": "1.5.0",
            "_view_name": "HBoxView",
            "box_style": "",
            "children": [
              "IPY_MODEL_ea21d1df6ef24f7baac06a263e688384",
              "IPY_MODEL_f38dd0036e784324bfba9ba9f43e2e69",
              "IPY_MODEL_53ad876f1c5b477282548aafc675fc3d"
            ],
            "layout": "IPY_MODEL_d020757c34894bf5b6f192d616e4c7e9"
          }
        },
        "ea21d1df6ef24f7baac06a263e688384": {
          "model_module": "@jupyter-widgets/controls",
          "model_name": "HTMLModel",
          "model_module_version": "1.5.0",
          "state": {
            "_dom_classes": [],
            "_model_module": "@jupyter-widgets/controls",
            "_model_module_version": "1.5.0",
            "_model_name": "HTMLModel",
            "_view_count": null,
            "_view_module": "@jupyter-widgets/controls",
            "_view_module_version": "1.5.0",
            "_view_name": "HTMLView",
            "description": "",
            "description_tooltip": null,
            "layout": "IPY_MODEL_5175fa3a9b054935b04ebaa07697c375",
            "placeholder": "​",
            "style": "IPY_MODEL_9060b58bf6854a868536894371d03827",
            "value": " 20%"
          }
        },
        "f38dd0036e784324bfba9ba9f43e2e69": {
          "model_module": "@jupyter-widgets/controls",
          "model_name": "FloatProgressModel",
          "model_module_version": "1.5.0",
          "state": {
            "_dom_classes": [],
            "_model_module": "@jupyter-widgets/controls",
            "_model_module_version": "1.5.0",
            "_model_name": "FloatProgressModel",
            "_view_count": null,
            "_view_module": "@jupyter-widgets/controls",
            "_view_module_version": "1.5.0",
            "_view_name": "ProgressView",
            "bar_style": "danger",
            "description": "",
            "description_tooltip": null,
            "layout": "IPY_MODEL_51c8838f5776415dab4816398013af48",
            "max": 50,
            "min": 0,
            "orientation": "horizontal",
            "style": "IPY_MODEL_5ad9123f27724065ab7a11e120963a88",
            "value": 10
          }
        },
        "53ad876f1c5b477282548aafc675fc3d": {
          "model_module": "@jupyter-widgets/controls",
          "model_name": "HTMLModel",
          "model_module_version": "1.5.0",
          "state": {
            "_dom_classes": [],
            "_model_module": "@jupyter-widgets/controls",
            "_model_module_version": "1.5.0",
            "_model_name": "HTMLModel",
            "_view_count": null,
            "_view_module": "@jupyter-widgets/controls",
            "_view_module_version": "1.5.0",
            "_view_name": "HTMLView",
            "description": "",
            "description_tooltip": null,
            "layout": "IPY_MODEL_4ae88c7ce95a499aba5ef2b1cd941b8e",
            "placeholder": "​",
            "style": "IPY_MODEL_265f72a6dcc04161a8c56a68ae6cc04b",
            "value": " 10/50 [05:46&lt;22:42, 34.07s/it]"
          }
        },
        "d020757c34894bf5b6f192d616e4c7e9": {
          "model_module": "@jupyter-widgets/base",
          "model_name": "LayoutModel",
          "model_module_version": "1.2.0",
          "state": {
            "_model_module": "@jupyter-widgets/base",
            "_model_module_version": "1.2.0",
            "_model_name": "LayoutModel",
            "_view_count": null,
            "_view_module": "@jupyter-widgets/base",
            "_view_module_version": "1.2.0",
            "_view_name": "LayoutView",
            "align_content": null,
            "align_items": null,
            "align_self": null,
            "border": null,
            "bottom": null,
            "display": null,
            "flex": null,
            "flex_flow": null,
            "grid_area": null,
            "grid_auto_columns": null,
            "grid_auto_flow": null,
            "grid_auto_rows": null,
            "grid_column": null,
            "grid_gap": null,
            "grid_row": null,
            "grid_template_areas": null,
            "grid_template_columns": null,
            "grid_template_rows": null,
            "height": null,
            "justify_content": null,
            "justify_items": null,
            "left": null,
            "margin": null,
            "max_height": null,
            "max_width": null,
            "min_height": null,
            "min_width": null,
            "object_fit": null,
            "object_position": null,
            "order": null,
            "overflow": null,
            "overflow_x": null,
            "overflow_y": null,
            "padding": null,
            "right": null,
            "top": null,
            "visibility": null,
            "width": null
          }
        },
        "5175fa3a9b054935b04ebaa07697c375": {
          "model_module": "@jupyter-widgets/base",
          "model_name": "LayoutModel",
          "model_module_version": "1.2.0",
          "state": {
            "_model_module": "@jupyter-widgets/base",
            "_model_module_version": "1.2.0",
            "_model_name": "LayoutModel",
            "_view_count": null,
            "_view_module": "@jupyter-widgets/base",
            "_view_module_version": "1.2.0",
            "_view_name": "LayoutView",
            "align_content": null,
            "align_items": null,
            "align_self": null,
            "border": null,
            "bottom": null,
            "display": null,
            "flex": null,
            "flex_flow": null,
            "grid_area": null,
            "grid_auto_columns": null,
            "grid_auto_flow": null,
            "grid_auto_rows": null,
            "grid_column": null,
            "grid_gap": null,
            "grid_row": null,
            "grid_template_areas": null,
            "grid_template_columns": null,
            "grid_template_rows": null,
            "height": null,
            "justify_content": null,
            "justify_items": null,
            "left": null,
            "margin": null,
            "max_height": null,
            "max_width": null,
            "min_height": null,
            "min_width": null,
            "object_fit": null,
            "object_position": null,
            "order": null,
            "overflow": null,
            "overflow_x": null,
            "overflow_y": null,
            "padding": null,
            "right": null,
            "top": null,
            "visibility": null,
            "width": null
          }
        },
        "9060b58bf6854a868536894371d03827": {
          "model_module": "@jupyter-widgets/controls",
          "model_name": "DescriptionStyleModel",
          "model_module_version": "1.5.0",
          "state": {
            "_model_module": "@jupyter-widgets/controls",
            "_model_module_version": "1.5.0",
            "_model_name": "DescriptionStyleModel",
            "_view_count": null,
            "_view_module": "@jupyter-widgets/base",
            "_view_module_version": "1.2.0",
            "_view_name": "StyleView",
            "description_width": ""
          }
        },
        "51c8838f5776415dab4816398013af48": {
          "model_module": "@jupyter-widgets/base",
          "model_name": "LayoutModel",
          "model_module_version": "1.2.0",
          "state": {
            "_model_module": "@jupyter-widgets/base",
            "_model_module_version": "1.2.0",
            "_model_name": "LayoutModel",
            "_view_count": null,
            "_view_module": "@jupyter-widgets/base",
            "_view_module_version": "1.2.0",
            "_view_name": "LayoutView",
            "align_content": null,
            "align_items": null,
            "align_self": null,
            "border": null,
            "bottom": null,
            "display": null,
            "flex": null,
            "flex_flow": null,
            "grid_area": null,
            "grid_auto_columns": null,
            "grid_auto_flow": null,
            "grid_auto_rows": null,
            "grid_column": null,
            "grid_gap": null,
            "grid_row": null,
            "grid_template_areas": null,
            "grid_template_columns": null,
            "grid_template_rows": null,
            "height": null,
            "justify_content": null,
            "justify_items": null,
            "left": null,
            "margin": null,
            "max_height": null,
            "max_width": null,
            "min_height": null,
            "min_width": null,
            "object_fit": null,
            "object_position": null,
            "order": null,
            "overflow": null,
            "overflow_x": null,
            "overflow_y": null,
            "padding": null,
            "right": null,
            "top": null,
            "visibility": null,
            "width": null
          }
        },
        "5ad9123f27724065ab7a11e120963a88": {
          "model_module": "@jupyter-widgets/controls",
          "model_name": "ProgressStyleModel",
          "model_module_version": "1.5.0",
          "state": {
            "_model_module": "@jupyter-widgets/controls",
            "_model_module_version": "1.5.0",
            "_model_name": "ProgressStyleModel",
            "_view_count": null,
            "_view_module": "@jupyter-widgets/base",
            "_view_module_version": "1.2.0",
            "_view_name": "StyleView",
            "bar_color": null,
            "description_width": ""
          }
        },
        "4ae88c7ce95a499aba5ef2b1cd941b8e": {
          "model_module": "@jupyter-widgets/base",
          "model_name": "LayoutModel",
          "model_module_version": "1.2.0",
          "state": {
            "_model_module": "@jupyter-widgets/base",
            "_model_module_version": "1.2.0",
            "_model_name": "LayoutModel",
            "_view_count": null,
            "_view_module": "@jupyter-widgets/base",
            "_view_module_version": "1.2.0",
            "_view_name": "LayoutView",
            "align_content": null,
            "align_items": null,
            "align_self": null,
            "border": null,
            "bottom": null,
            "display": null,
            "flex": null,
            "flex_flow": null,
            "grid_area": null,
            "grid_auto_columns": null,
            "grid_auto_flow": null,
            "grid_auto_rows": null,
            "grid_column": null,
            "grid_gap": null,
            "grid_row": null,
            "grid_template_areas": null,
            "grid_template_columns": null,
            "grid_template_rows": null,
            "height": null,
            "justify_content": null,
            "justify_items": null,
            "left": null,
            "margin": null,
            "max_height": null,
            "max_width": null,
            "min_height": null,
            "min_width": null,
            "object_fit": null,
            "object_position": null,
            "order": null,
            "overflow": null,
            "overflow_x": null,
            "overflow_y": null,
            "padding": null,
            "right": null,
            "top": null,
            "visibility": null,
            "width": null
          }
        },
        "265f72a6dcc04161a8c56a68ae6cc04b": {
          "model_module": "@jupyter-widgets/controls",
          "model_name": "DescriptionStyleModel",
          "model_module_version": "1.5.0",
          "state": {
            "_model_module": "@jupyter-widgets/controls",
            "_model_module_version": "1.5.0",
            "_model_name": "DescriptionStyleModel",
            "_view_count": null,
            "_view_module": "@jupyter-widgets/base",
            "_view_module_version": "1.2.0",
            "_view_name": "StyleView",
            "description_width": ""
          }
        }
      }
    }
  },
  "nbformat": 4,
  "nbformat_minor": 0
}