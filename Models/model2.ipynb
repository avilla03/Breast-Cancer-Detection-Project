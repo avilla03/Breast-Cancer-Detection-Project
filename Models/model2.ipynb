{
  "nbformat": 4,
  "nbformat_minor": 0,
  "metadata": {
    "colab": {
      "provenance": []
    },
    "kernelspec": {
      "name": "python3",
      "display_name": "Python 3"
    },
    "language_info": {
      "name": "python"
    }
  },
  "cells": [
    {
      "cell_type": "code",
      "execution_count": null,
      "metadata": {
        "id": "GJDUMqFWmrlD"
      },
      "outputs": [],
      "source": [
        "from torch import nn\n",
        "class PredictionModel2(nn.Module):\n",
        "  def __init__(self):\n",
        "    super().__init__()\n",
        "    self.conv_layer1 = nn.Sequential(\n",
        "        nn.Conv2d(in_channels = 3,\n",
        "                  out_channels = 10,\n",
        "                  kernel_size = 3,\n",
        "                  stride = 1,\n",
        "                  padding = 1),\n",
        "        nn.ReLU(),\n",
        "        nn.BatchNorm2d(num_features=10),\n",
        "        nn.MaxPool2d(kernel_size = 2),\n",
        "        nn.Conv2d(in_channels = 10,\n",
        "                  out_channels = 15,\n",
        "                  kernel_size = 3,\n",
        "                  stride = 1,\n",
        "                  padding = 1),\n",
        "        nn.ReLU(),\n",
        "        nn.BatchNorm2d(num_features=15),\n",
        "        nn.MaxPool2d(kernel_size = 3, stride = 2),\n",
        "        nn.Dropout(p=.3))\n",
        "    self.conv_layer2 = nn.Sequential(\n",
        "        nn.Conv2d(in_channels = 15,\n",
        "                  out_channels = 20,\n",
        "                  kernel_size = 3,\n",
        "                  stride = 1,\n",
        "                  padding = 1),\n",
        "        nn.ReLU(),\n",
        "        nn.BatchNorm2d(num_features=20),\n",
        "        nn.MaxPool2d(kernel_size = 3, stride = 2),\n",
        "        nn.Conv2d(in_channels = 20,\n",
        "                  out_channels = 20,\n",
        "                  kernel_size = 3,\n",
        "                  stride = 1,\n",
        "                  padding = 1),\n",
        "        nn.ReLU(),\n",
        "        nn.BatchNorm2d(num_features=20),\n",
        "        nn.MaxPool2d(kernel_size = 3, stride = 2),\n",
        "        nn.Dropout(p=.3))\n",
        "    self.connected_layer = nn.Sequential(\n",
        "        nn.Flatten(),\n",
        "        nn.Linear(in_features = 180,\n",
        "                  out_features = 10),\n",
        "        nn.ReLU(),\n",
        "        nn.Linear(in_features = 10,\n",
        "                  out_features = 1)\n",
        "        )\n",
        "  def forward(self, X):\n",
        "    X = self.conv_layer1(X)\n",
        "    X = self.conv_layer2(X)\n",
        "    X = self.connected_layer(X)\n",
        "    return X"
      ]
    }
  ]
}