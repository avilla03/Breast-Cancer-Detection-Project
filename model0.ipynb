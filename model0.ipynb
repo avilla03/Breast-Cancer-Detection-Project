{
  "nbformat": 4,
  "nbformat_minor": 0,
  "metadata": {
    "colab": {
      "provenance": [],
      "authorship_tag": "ABX9TyNrSxjHhwZqWJ24T4cXfW4x",
      "include_colab_link": true
    },
    "kernelspec": {
      "name": "python3",
      "display_name": "Python 3"
    },
    "language_info": {
      "name": "python"
    }
  },
  "cells": [
    {
      "cell_type": "markdown",
      "metadata": {
        "id": "view-in-github",
        "colab_type": "text"
      },
      "source": [
        "<a href=\"https://colab.research.google.com/github/avilla03/Convolutional-NN-Project/blob/main/model0.ipynb\" target=\"_parent\"><img src=\"https://colab.research.google.com/assets/colab-badge.svg\" alt=\"Open In Colab\"/></a>"
      ]
    },
    {
      "cell_type": "code",
      "execution_count": null,
      "metadata": {
        "id": "RLfzlaimlyOz"
      },
      "outputs": [],
      "source": [
        "class PredictionModel0(nn.Module):\n",
        "  def __init__(self):\n",
        "    super().__init__()\n",
        "    self.dense = nn.Sequential(\n",
        "        nn.Flatten(),\n",
        "        nn.Linear(64*64*3,720),\n",
        "        nn.ReLU(),\n",
        "        nn.Linear(720,360),\n",
        "        nn.ReLU(),\n",
        "        nn.Linear(360,180),\n",
        "        nn.ReLU(),\n",
        "        nn.Linear(180,90),\n",
        "        nn.ReLU(),\n",
        "        nn.Linear(90,45),\n",
        "        nn.ReLU())\n",
        "    self.classifier = nn.Linear(45,1)\n",
        "  def forward(self,x):\n",
        "    x = self.dense(x)\n",
        "    x = self.classifier(x)\n",
        "    return x"
      ]
    }
  ]
}