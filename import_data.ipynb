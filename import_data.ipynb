{
  "nbformat": 4,
  "nbformat_minor": 0,
  "metadata": {
    "colab": {
      "provenance": [],
      "authorship_tag": "ABX9TyO5RaCKQ9TgSKTf8FMdUJOK",
      "include_colab_link": true
    },
    "kernelspec": {
      "name": "python3",
      "display_name": "Python 3"
    },
    "language_info": {
      "name": "python"
    }
  },
  "cells": [
    {
      "cell_type": "markdown",
      "metadata": {
        "id": "view-in-github",
        "colab_type": "text"
      },
      "source": [
        "<a href=\"https://colab.research.google.com/github/avilla03/Convolutional-NN-Project/blob/main/import_data.ipynb\" target=\"_parent\"><img src=\"https://colab.research.google.com/assets/colab-badge.svg\" alt=\"Open In Colab\"/></a>"
      ]
    },
    {
      "cell_type": "code",
      "execution_count": null,
      "metadata": {
        "id": "nMw2btFHicj7"
      },
      "outputs": [],
      "source": [
        "import zipfile # Import data in form of a zipfile\n",
        "from pathlib import Path # Store path of data\n",
        "data_path = Path(\"data/\")\n",
        "images_path = data_path / \"med_gallery\"\n",
        "if images_path.is_dir():\n",
        "  print(f\"{images_path} directory already exists, skipping download\")\n",
        "else:\n",
        "  print(f\"{images_path} does not exist, creating one...\")\n",
        "  images_path.mkdir(parents=True, exist_ok=True) # make directory and create parent directories\n",
        "                               # if needed. It is ok if this dir exists already\n",
        "  zip_file_path = \"/content/drive/MyDrive/archive.zip\"\n",
        "  extraction_path = images_path\n",
        "  with zipfile.ZipFile(zip_file_path, 'r') as zip:\n",
        "    print('Extracting all the files now...')\n",
        "    zip.extractall(extraction_path)\n",
        "    print('Done!')\n",
        "\n",
        "# specifying the zip file name from google drive & extraction paths"
      ]
    }
  ]
}