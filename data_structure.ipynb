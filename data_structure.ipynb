{
  "nbformat": 4,
  "nbformat_minor": 0,
  "metadata": {
    "colab": {
      "provenance": [],
      "authorship_tag": "ABX9TyPXBvlViF6oSqpo/mew9x7r",
      "include_colab_link": true
    },
    "kernelspec": {
      "name": "python3",
      "display_name": "Python 3"
    },
    "language_info": {
      "name": "python"
    }
  },
  "cells": [
    {
      "cell_type": "markdown",
      "metadata": {
        "id": "view-in-github",
        "colab_type": "text"
      },
      "source": [
        "<a href=\"https://colab.research.google.com/github/avilla03/Convolutional-NN-Project/blob/main/data_structure.ipynb\" target=\"_parent\"><img src=\"https://colab.research.google.com/assets/colab-badge.svg\" alt=\"Open In Colab\"/></a>"
      ]
    },
    {
      "cell_type": "code",
      "execution_count": null,
      "metadata": {
        "id": "mV3A-lINi8jK"
      },
      "outputs": [],
      "source": [
        "import os\n",
        "\n",
        "data_directory = \"/content/data\"  # Path to data directory\n",
        "\n",
        "# Create med_gallery, train, and test directories\n",
        "train_dir = os.path.join(data_directory, \"train\")\n",
        "test_dir = os.path.join(data_directory, \"test\")\n",
        "\n",
        "# Create subdirectories under train and test\n",
        "for subdir in [\"0\", \"1\"]:\n",
        "    os.makedirs(os.path.join(train_dir, subdir), exist_ok=True)\n",
        "    os.makedirs(os.path.join(test_dir, subdir), exist_ok=True)\n",
        "main_directory = \"/content/data\"\n",
        "os.chdir(main_directory)\n",
        "subdir_path = os.path.join(main_directory, \"med_gallery\")\n",
        "os.chdir(subdir_path)\n",
        "excluded_directory = \"IDC_regular_ps50_idx5\"\n",
        "subdirectories = []\n",
        "for i in os.listdir():\n",
        "  if os.path.isdir(i) and i != excluded_directory:\n",
        "    subdirectories.append(i)\n",
        "combined_files_0 = []\n",
        "combined_files_1 = []\n",
        "for sub_sub_dir in subdirectories:\n",
        "  sub_sub_dir_path = os.path.join(subdir_path, sub_sub_dir)\n",
        "  for sub_sub_sub_dir in os.listdir(sub_sub_dir_path):\n",
        "    sub_sub_sub_dir_path = os.path.join(sub_sub_dir_path, sub_sub_sub_dir)\n",
        "    for file_name in os.listdir(sub_sub_sub_dir_path):\n",
        "      file_path = os.path.join(sub_sub_sub_dir_path, file_name)\n",
        "      with open(file_path, \"rb\") as f:\n",
        "        content = f.read()\n",
        "        if sub_sub_sub_dir == \"0\":\n",
        "          combined_files_0.append(content)\n",
        "        elif sub_sub_sub_dir == \"1\":\n",
        "          combined_files_1.append(content)\n",
        "os.chdir(main_directory)\n",
        "train_path = main_directory + \"/\" + \"train\"\n",
        "test_path = main_directory + \"/\" + \"test\"\n",
        "divide_count0, divide_count1 = int(len(combined_files_0) * .75), int(len(combined_files_1) * .75)\n",
        "for sub_dir in os.listdir(train_path):\n",
        "  if sub_dir == \"0\":\n",
        "    sub_dir_path = os.path.join(train_path, \"0\")\n",
        "    for idx, image in enumerate(combined_files_0[:divide_count0]):\n",
        "      image_path = os.path.join(sub_dir_path,  f\"train_image_0_{idx}.png\")\n",
        "      with open(image_path, \"wb\") as f:\n",
        "        f.write(image)\n",
        "  else:\n",
        "    sub_dir_path = os.path.join(train_path, \"1\")\n",
        "    for idx, image in enumerate(combined_files_1[:divide_count1]):\n",
        "      image_path = os.path.join(sub_dir_path,  f\"train_image_1_{idx}.png\")\n",
        "      with open(image_path, \"wb\") as f:\n",
        "        f.write(image)\n",
        "for sub_dir in os.listdir(test_path):\n",
        "  if sub_dir == \"0\":\n",
        "    sub_dir_path = os.path.join(test_path, \"0\")\n",
        "    for idx, image in enumerate(combined_files_0[divide_count0:]):\n",
        "      image_path = os.path.join(sub_dir_path, f\"test_image_0_{idx}.png\")\n",
        "      with open(image_path, \"wb\") as f:\n",
        "        f.write(image)\n",
        "  else:\n",
        "    sub_dir_path = os.path.join(test_path, \"1\")\n",
        "    for idx, image in enumerate(combined_files_1[divide_count1:]):\n",
        "      image_path = os.path.join(sub_dir_path,  f\"test_image_1_{idx}.png\")\n",
        "      with open(image_path, \"wb\") as f:\n",
        "        f.write(image)"
      ]
    }
  ]
}