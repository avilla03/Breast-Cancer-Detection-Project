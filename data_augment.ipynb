{
  "nbformat": 4,
  "nbformat_minor": 0,
  "metadata": {
    "colab": {
      "provenance": [],
      "authorship_tag": "ABX9TyNiLzCXWzFa412Vx3ObLLY1",
      "include_colab_link": true
    },
    "kernelspec": {
      "name": "python3",
      "display_name": "Python 3"
    },
    "language_info": {
      "name": "python"
    }
  },
  "cells": [
    {
      "cell_type": "markdown",
      "metadata": {
        "id": "view-in-github",
        "colab_type": "text"
      },
      "source": [
        "<a href=\"https://colab.research.google.com/github/avilla03/Convolutional-NN-Project/blob/main/data_augment.ipynb\" target=\"_parent\"><img src=\"https://colab.research.google.com/assets/colab-badge.svg\" alt=\"Open In Colab\"/></a>"
      ]
    },
    {
      "cell_type": "code",
      "execution_count": 1,
      "metadata": {
        "colab": {
          "base_uri": "https://localhost:8080/",
          "height": 252
        },
        "id": "USwAooc6jPL6",
        "outputId": "359c435e-8eac-48db-ca6d-249577ac51f8"
      },
      "outputs": [
        {
          "output_type": "error",
          "ename": "NameError",
          "evalue": "ignored",
          "traceback": [
            "\u001b[0;31m---------------------------------------------------------------------------\u001b[0m",
            "\u001b[0;31mNameError\u001b[0m                                 Traceback (most recent call last)",
            "\u001b[0;32m<ipython-input-1-36ba020177d5>\u001b[0m in \u001b[0;36m<cell line: 4>\u001b[0;34m()\u001b[0m\n\u001b[1;32m      2\u001b[0m \u001b[0;32mimport\u001b[0m \u001b[0mrandom\u001b[0m\u001b[0;34m\u001b[0m\u001b[0;34m\u001b[0m\u001b[0m\n\u001b[1;32m      3\u001b[0m \u001b[0;32mfrom\u001b[0m \u001b[0mPIL\u001b[0m \u001b[0;32mimport\u001b[0m \u001b[0mImage\u001b[0m\u001b[0;34m\u001b[0m\u001b[0;34m\u001b[0m\u001b[0m\n\u001b[0;32m----> 4\u001b[0;31m \u001b[0mtrain_images_path\u001b[0m \u001b[0;34m=\u001b[0m \u001b[0mPath\u001b[0m\u001b[0;34m(\u001b[0m\u001b[0;34m\"/content/data/train\"\u001b[0m\u001b[0;34m)\u001b[0m\u001b[0;34m\u001b[0m\u001b[0;34m\u001b[0m\u001b[0m\n\u001b[0m\u001b[1;32m      5\u001b[0m \u001b[0mtrain_image_path_list\u001b[0m \u001b[0;34m=\u001b[0m \u001b[0mlist\u001b[0m\u001b[0;34m(\u001b[0m\u001b[0mtrain_images_path\u001b[0m\u001b[0;34m.\u001b[0m\u001b[0mglob\u001b[0m\u001b[0;34m(\u001b[0m\u001b[0;34m\"*/*.png\"\u001b[0m\u001b[0;34m)\u001b[0m\u001b[0;34m)\u001b[0m\u001b[0;34m\u001b[0m\u001b[0;34m\u001b[0m\u001b[0m\n\u001b[1;32m      6\u001b[0m \u001b[0mrandom_train_image_path\u001b[0m \u001b[0;34m=\u001b[0m \u001b[0mrandom\u001b[0m\u001b[0;34m.\u001b[0m\u001b[0mchoice\u001b[0m\u001b[0;34m(\u001b[0m\u001b[0mtrain_image_path_list\u001b[0m\u001b[0;34m)\u001b[0m\u001b[0;34m\u001b[0m\u001b[0;34m\u001b[0m\u001b[0m\n",
            "\u001b[0;31mNameError\u001b[0m: name 'Path' is not defined"
          ]
        }
      ],
      "source": [
        "# Lets take a random image\n",
        "import random\n",
        "from PIL import Image\n",
        "from pathlib import Path\n",
        "train_images_path = Path(\"/content/data/train\")\n",
        "train_image_path_list = list(train_images_path.glob(\"*/*.png\"))\n",
        "random_train_image_path = random.choice(train_image_path_list)\n",
        "print(random_train_image_path)\n",
        "train_image_class = random_train_image_path.parent.stem\n",
        "classification = \"\"\n",
        "if train_image_class == \"0\":\n",
        "  classification = \"Negative\"\n",
        "else:\n",
        "  classification = \"Positive\"\n",
        "#Open image\n",
        "img = Image.open(random_train_image_path)\n",
        "import torch\n",
        "from torchvision import datasets, transforms\n",
        "train_images_path = Path(\"/content/data/train\")\n",
        "train_image_path_list = list(train_images_path.glob(\"*/*.png\"))\n",
        "random_train_image_path = random.choice(train_image_path_list)\n",
        "img = Image.open(random_train_image_path)\n",
        "# Tranform the data into larger images\n",
        "data_transform = transforms.Compose([\n",
        "    transforms.Resize(size=(64,64)), # 64 x 64 images\n",
        "    transforms.RandomHorizontalFlip(p=0.6),# Randomly flip our data along the x-axis\n",
        "    transforms.ToTensor() # turns a PIL image or np array to pytorch tensor\n",
        "])\n",
        "transformed_image = data_transform(img).permute(1,2,0)\n",
        "fig,ax = plt.subplots(nrows=1,ncols=2)\n",
        "ax[0].imshow(transformed_image)\n",
        "ax[0].set_title(\"Transformed\")\n",
        "ax[0].axis(\"off\")\n",
        "ax[1].imshow(img)\n",
        "ax[1].set_title(\"Original\")\n",
        "ax[1].axis(\"off\")"
      ]
    },
    {
      "cell_type": "code",
      "source": [],
      "metadata": {
        "id": "S8JDs_p7jlsX"
      },
      "execution_count": null,
      "outputs": []
    }
  ]
}