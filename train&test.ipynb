{
  "nbformat": 4,
  "nbformat_minor": 0,
  "metadata": {
    "colab": {
      "provenance": [],
      "authorship_tag": "ABX9TyOaiF5o24qY0dSEP9mxq3kT",
      "include_colab_link": true
    },
    "kernelspec": {
      "name": "python3",
      "display_name": "Python 3"
    },
    "language_info": {
      "name": "python"
    }
  },
  "cells": [
    {
      "cell_type": "markdown",
      "metadata": {
        "id": "view-in-github",
        "colab_type": "text"
      },
      "source": [
        "<a href=\"https://colab.research.google.com/github/avilla03/Convolutional-NN-Project/blob/main/train%26test.ipynb\" target=\"_parent\"><img src=\"https://colab.research.google.com/assets/colab-badge.svg\" alt=\"Open In Colab\"/></a>"
      ]
    },
    {
      "cell_type": "code",
      "execution_count": null,
      "metadata": {
        "id": "nOOMbvKJkrzo"
      },
      "outputs": [],
      "source": [
        "from tqdm.auto import tqdm\n",
        "torch.manual_seed(12)\n",
        "torch.cuda.manual_seed(12)\n",
        "epochs = 50\n",
        "lr_scheduler = torch.optim.lr_scheduler.ReduceLROnPlateau(optimizer, mode='min', factor=0.1, patience=5, verbose=True)\n",
        "for epoch in tqdm(range(epochs)):\n",
        "  print(f\" Model has seen data {epoch} times \\n -------------\")\n",
        "  train_loss = 0\n",
        "  train_acc = 0\n",
        "  test_loss = 0\n",
        "  test_acc = 0\n",
        "  for batch, (X,y) in enumerate(train_subset_dataloader):\n",
        "    X,y = X.to(device),y.to(device)\n",
        "    y = y.to(torch.float32)\n",
        "    model.train()\n",
        "    y_logits = model.forward(X).squeeze()\n",
        "    y_pred = torch.round(torch.sigmoid(y_logits))\n",
        "    loss = loss_fn(y_logits,y)\n",
        "    acc = accuracy_fn(y_true = y, y_pred = y_pred)\n",
        "    train_loss += loss\n",
        "    train_acc += acc\n",
        "    for param in model.parameters():\n",
        "      param.grad = None\n",
        "    loss.backward()\n",
        "    optimizer.step()\n",
        "    #lr_scheduler.step(loss)\n",
        "    if batch % 200 == 0:\n",
        "      print(f\"Looked at {batch * len(X)} / {len(train_subset_dataloader.dataset)} samples.\")\n",
        "  train_loss /= len(train_subset_dataloader) # average per batch\n",
        "  train_acc /= len(train_subset_dataloader)\n",
        "  test_loss, test_acc = 0,0\n",
        "  model.eval()\n",
        "  with torch.inference_mode():\n",
        "    for X_test,y_test in test_subset_dataloader:\n",
        "      X_test, y_test = X_test.to(device), y_test.to(device)\n",
        "      y_test = y_test.to(torch.float32).squeeze()\n",
        "      test_logits = model(X_test).squeeze()\n",
        "      test_pred = torch.round(torch.sigmoid(test_logits))\n",
        "      test_loss += loss_fn(test_logits,y_test)\n",
        "      test_acc += accuracy_fn(y_true = y_test, y_pred = test_pred)\n",
        "    test_loss /= len(test_subset_dataloader)\n",
        "    test_acc /= len(test_subset_dataloader)\n",
        "    #lr_scheduler.step(test_loss)\n",
        "    print(f\"\\nTrain loss avg: {train_loss: .4f} | Train acc avg: {train_acc: .4f} | Test loss avg: {test_loss: .4f}, Test acc avg: {test_acc: .4f}\")"
      ]
    }
  ]
}