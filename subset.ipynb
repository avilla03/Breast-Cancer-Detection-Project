{
  "nbformat": 4,
  "nbformat_minor": 0,
  "metadata": {
    "colab": {
      "provenance": [],
      "authorship_tag": "ABX9TyPUQn4LOZAK9GhE/W3adx60",
      "include_colab_link": true
    },
    "kernelspec": {
      "name": "python3",
      "display_name": "Python 3"
    },
    "language_info": {
      "name": "python"
    }
  },
  "cells": [
    {
      "cell_type": "markdown",
      "metadata": {
        "id": "view-in-github",
        "colab_type": "text"
      },
      "source": [
        "<a href=\"https://colab.research.google.com/github/avilla03/Convolutional-NN-Project/blob/main/subset.ipynb\" target=\"_parent\"><img src=\"https://colab.research.google.com/assets/colab-badge.svg\" alt=\"Open In Colab\"/></a>"
      ]
    },
    {
      "cell_type": "code",
      "execution_count": null,
      "metadata": {
        "id": "PMV5Du9mj3SJ"
      },
      "outputs": [],
      "source": [
        "#Image folder to create datasets\n",
        "from torchvision import datasets\n",
        "train_data = datasets.ImageFolder(root=train_dir,\n",
        "                                  transform = data_transform,\n",
        "                                  target_transform=None,  #A transform for label/taget\n",
        "                                  )\n",
        "test_data = datasets.ImageFolder(root=test_dir,\n",
        "                                 transform = data_transform)\n",
        "train_data, test_data\n",
        "from torch.utils.data import Subset, DataLoader, random_split\n",
        "subset_size = 30000\n",
        "train_random_sampler = torch.utils.data.RandomSampler(train_data, replacement=False, num_samples=subset_size)\n",
        "test_random_sampler = torch.utils.data.RandomSampler(test_data, replacement=False, num_samples=subset_size)\n",
        "\n",
        "# Create a SubsetRandomSampler\n",
        "train_subset_indices = list(train_random_sampler)\n",
        "test_subset_indices = list(test_random_sampler)\n",
        "# Create a Subset of the original full_dataset using the random indices\n",
        "train_subset = Subset(train_data, train_subset_indices)\n",
        "test_subset = Subset(test_data, test_subset_indices)\n",
        "# Define batch size and other DataLoader parameters\n",
        "BATCH_SIZE = 45\n",
        "num_workers = 1\n",
        "shuffle = True\n",
        "\n",
        "# Create a new DataLoader for the subset\n",
        "train_subset_dataloader = DataLoader(train_subset, batch_size=BATCH_SIZE, num_workers=num_workers, shuffle=shuffle)\n",
        "test_subset_dataloader = DataLoader(test_subset, batch_size=BATCH_SIZE, num_workers=num_workers, shuffle=shuffle)\n",
        "# Now, you can iterate through subset_dataloader to get the desired subset of data\n",
        "for batch in train_subset_dataloader:\n",
        "  train_feature, train_labels = batch\n",
        "for batch in test_subset_dataloader:\n",
        "  test_feature, test_labels = batch\n",
        "train_feature, train_labels = next(iter(train_subset_dataloader))"
      ]
    }
  ]
}